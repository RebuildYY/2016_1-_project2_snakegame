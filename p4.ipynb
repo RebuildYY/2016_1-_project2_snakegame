{
  "nbformat": 4,
  "nbformat_minor": 0,
  "metadata": {
    "colab": {
      "name": "p4.ipynb",
      "version": "0.3.2",
      "provenance": [],
      "collapsed_sections": [],
      "include_colab_link": true
    },
    "kernelspec": {
      "name": "python3",
      "display_name": "Python 3"
    }
  },
  "cells": [
    {
      "cell_type": "markdown",
      "metadata": {
        "id": "view-in-github",
        "colab_type": "text"
      },
      "source": [
        "<a href=\"https://colab.research.google.com/github/RebuildYY/2016_1-_project2_snakegame/blob/master/p4.ipynb\" target=\"_parent\"><img src=\"https://colab.research.google.com/assets/colab-badge.svg\" alt=\"Open In Colab\"/></a>"
      ]
    },
    {
      "cell_type": "code",
      "metadata": {
        "id": "p8LiDkXMHzVL",
        "colab_type": "code",
        "outputId": "741596fd-b4cc-4095-b923-47565f05354d",
        "colab": {
          "base_uri": "https://localhost:8080/",
          "height": 143
        }
      },
      "source": [
        "import numpy as np\n",
        "\n",
        "def max(a, b, c, d):\n",
        "  max = a\n",
        "  if max < b:\n",
        "    max = b\n",
        "  if max < c:\n",
        "    max = c\n",
        "  if max < d:\n",
        "    max = d\n",
        "  return max\n",
        "\n",
        "\n",
        "n = int(input())\n",
        "if n % 2 != 0:\n",
        "  print(\"짝수를 입력해주세요.\")\n",
        "\n",
        "else:\n",
        "  A = np.random.random((n,n))\n",
        "  B = np.zeros((int(n/2), int(n/2)))\n",
        "  for i in range(0, n):\n",
        "    for j in range(0, n):\n",
        "      A[i][j] = round(A[i][j], 2)\n",
        "  \n",
        "  for i in range(0, n, 2):\n",
        "    for j in range(0, n, 2):\n",
        "      B[int(i/2)][int(j/2)] = max(A[i][j], A[i][j+1], A[i+1][j], A[i+1][j+1])\n",
        "  \n",
        "  print(A)\n",
        "  print(B)"
      ],
      "execution_count": 0,
      "outputs": [
        {
          "output_type": "stream",
          "text": [
            "4\n",
            "[[0.7  0.42 0.42 0.77]\n",
            " [0.18 0.05 0.99 0.26]\n",
            " [0.42 0.48 0.7  0.91]\n",
            " [0.04 0.58 0.89 0.88]]\n",
            "[[0.7  0.99]\n",
            " [0.58 0.91]]\n"
          ],
          "name": "stdout"
        }
      ]
    }
  ]
}